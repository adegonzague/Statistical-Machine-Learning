{
 "cells": [
  {
   "cell_type": "markdown",
   "id": "aac148a5",
   "metadata": {},
   "source": [
    "# Homework SML1 - Degonzague Alice"
   ]
  },
  {
   "cell_type": "markdown",
   "id": "33faf7ce",
   "metadata": {},
   "source": [
    "### Exercise 2 page 52 "
   ]
  },
  {
   "cell_type": "markdown",
   "id": "8ed630df",
   "metadata": {},
   "source": [
    "For each scenario : Classification or Regression ? Inference or Prediction ? Provide n and p :\n",
    "\n",
    "(a) This is a regression problem, we want to model the relationship between a dependent variable (CEO salary) and multiple independent variables. We are interested in inference, understanding which factors affect CEO salary and not predict the salary.\n",
    "n = 500 (number of firms)\n",
    "p = 3 (number of variables recorded for each firm)\n",
    "\n",
    "(b) This is a classification problem as we want to train the model to correctly predict the class label (success or failure). We are interested in prediction, predicting whether the new product will be a success or failure.\n",
    "n = 20 (number of similar products)\n",
    "p = 13 (number of variables recorded for each product)\n",
    "\n",
    "(c) This is also a regression problem, we want to model the relationship between a continuous dependent variable ( % change in the USD/Euro exchange rate) and multiple independent variables. We are interested in prediction, predicting the % change in the USD/Euro exchange rate.\n",
    "n = 52 (number of weeks in 2012)\n",
    "p = 4 (number of variables recorded for each week)"
   ]
  },
  {
   "cell_type": "markdown",
   "id": "228e3801",
   "metadata": {},
   "source": [
    "### Exercise 10 page 56"
   ]
  },
  {
   "cell_type": "markdown",
   "id": "fffb4ff9",
   "metadata": {},
   "source": [
    "(a) How many rows are in this data set? How many columns? What do the rows and columns represent?"
   ]
  },
  {
   "cell_type": "markdown",
   "id": "3178c7ff",
   "metadata": {},
   "source": [
    "*The Boston data set in the ISLR2 library contains 506 rows (suburbs of Boston) and 14 columns. The rows represent observations of different census tracts in the Boston area and the columns represent different predictor variables such as crime rate, average number of rooms per dwelling, etc.*\n",
    "\n",
    "*crim: per capita crime rate by town.*\n",
    "\n",
    "*zn: proportion of residential land zoned for lots over 25,000 sq.ft.*\n",
    "\n",
    "*indus: proportion of non-retail business acres per town.*\n",
    "\n",
    "*chas: Charles River dummy variable (= 1 if tract bounds river; 0 otherwise).*\n",
    "\n",
    "*nox: nitrogen oxides concentration (parts per 10 million).*\n",
    "\n",
    "*rm: average number of rooms per dwelling.*\n",
    "\n",
    "*age: proportion of owner-occupied units built prior to 1940.*\n",
    "\n",
    "*dis: weighted mean of distances to five Boston employment centres.*\n",
    "\n",
    "*rad: index of accessibility to radial highways.*\n",
    "\n",
    "*tax: full-value property-tax rate per $10,000.*\n",
    "\n",
    "*ptratio: pupil-teacher ratio by town.*\n",
    "\n",
    "*lstat: lower status of the population (percent).*\n",
    "\n",
    "*medv: median value of owner-occupied homes in $1000s.*\n"
   ]
  },
  {
   "cell_type": "code",
   "execution_count": 26,
   "id": "db6bfbed",
   "metadata": {},
   "outputs": [
    {
     "data": {
      "text/html": [
       "<table class=\"dataframe\">\n",
       "<caption>A data.frame: 6 × 13</caption>\n",
       "<thead>\n",
       "\t<tr><th></th><th scope=col>crim</th><th scope=col>zn</th><th scope=col>indus</th><th scope=col>chas</th><th scope=col>nox</th><th scope=col>rm</th><th scope=col>age</th><th scope=col>dis</th><th scope=col>rad</th><th scope=col>tax</th><th scope=col>ptratio</th><th scope=col>lstat</th><th scope=col>medv</th></tr>\n",
       "\t<tr><th></th><th scope=col>&lt;dbl&gt;</th><th scope=col>&lt;dbl&gt;</th><th scope=col>&lt;dbl&gt;</th><th scope=col>&lt;int&gt;</th><th scope=col>&lt;dbl&gt;</th><th scope=col>&lt;dbl&gt;</th><th scope=col>&lt;dbl&gt;</th><th scope=col>&lt;dbl&gt;</th><th scope=col>&lt;int&gt;</th><th scope=col>&lt;dbl&gt;</th><th scope=col>&lt;dbl&gt;</th><th scope=col>&lt;dbl&gt;</th><th scope=col>&lt;dbl&gt;</th></tr>\n",
       "</thead>\n",
       "<tbody>\n",
       "\t<tr><th scope=row>1</th><td>0.00632</td><td>18</td><td>2.31</td><td>0</td><td>0.538</td><td>6.575</td><td>65.2</td><td>4.0900</td><td>1</td><td>296</td><td>15.3</td><td>4.98</td><td>24.0</td></tr>\n",
       "\t<tr><th scope=row>2</th><td>0.02731</td><td> 0</td><td>7.07</td><td>0</td><td>0.469</td><td>6.421</td><td>78.9</td><td>4.9671</td><td>2</td><td>242</td><td>17.8</td><td>9.14</td><td>21.6</td></tr>\n",
       "\t<tr><th scope=row>3</th><td>0.02729</td><td> 0</td><td>7.07</td><td>0</td><td>0.469</td><td>7.185</td><td>61.1</td><td>4.9671</td><td>2</td><td>242</td><td>17.8</td><td>4.03</td><td>34.7</td></tr>\n",
       "\t<tr><th scope=row>4</th><td>0.03237</td><td> 0</td><td>2.18</td><td>0</td><td>0.458</td><td>6.998</td><td>45.8</td><td>6.0622</td><td>3</td><td>222</td><td>18.7</td><td>2.94</td><td>33.4</td></tr>\n",
       "\t<tr><th scope=row>5</th><td>0.06905</td><td> 0</td><td>2.18</td><td>0</td><td>0.458</td><td>7.147</td><td>54.2</td><td>6.0622</td><td>3</td><td>222</td><td>18.7</td><td>5.33</td><td>36.2</td></tr>\n",
       "\t<tr><th scope=row>6</th><td>0.02985</td><td> 0</td><td>2.18</td><td>0</td><td>0.458</td><td>6.430</td><td>58.7</td><td>6.0622</td><td>3</td><td>222</td><td>18.7</td><td>5.21</td><td>28.7</td></tr>\n",
       "</tbody>\n",
       "</table>\n"
      ],
      "text/latex": [
       "A data.frame: 6 × 13\n",
       "\\begin{tabular}{r|lllllllllllll}\n",
       "  & crim & zn & indus & chas & nox & rm & age & dis & rad & tax & ptratio & lstat & medv\\\\\n",
       "  & <dbl> & <dbl> & <dbl> & <int> & <dbl> & <dbl> & <dbl> & <dbl> & <int> & <dbl> & <dbl> & <dbl> & <dbl>\\\\\n",
       "\\hline\n",
       "\t1 & 0.00632 & 18 & 2.31 & 0 & 0.538 & 6.575 & 65.2 & 4.0900 & 1 & 296 & 15.3 & 4.98 & 24.0\\\\\n",
       "\t2 & 0.02731 &  0 & 7.07 & 0 & 0.469 & 6.421 & 78.9 & 4.9671 & 2 & 242 & 17.8 & 9.14 & 21.6\\\\\n",
       "\t3 & 0.02729 &  0 & 7.07 & 0 & 0.469 & 7.185 & 61.1 & 4.9671 & 2 & 242 & 17.8 & 4.03 & 34.7\\\\\n",
       "\t4 & 0.03237 &  0 & 2.18 & 0 & 0.458 & 6.998 & 45.8 & 6.0622 & 3 & 222 & 18.7 & 2.94 & 33.4\\\\\n",
       "\t5 & 0.06905 &  0 & 2.18 & 0 & 0.458 & 7.147 & 54.2 & 6.0622 & 3 & 222 & 18.7 & 5.33 & 36.2\\\\\n",
       "\t6 & 0.02985 &  0 & 2.18 & 0 & 0.458 & 6.430 & 58.7 & 6.0622 & 3 & 222 & 18.7 & 5.21 & 28.7\\\\\n",
       "\\end{tabular}\n"
      ],
      "text/markdown": [
       "\n",
       "A data.frame: 6 × 13\n",
       "\n",
       "| <!--/--> | crim &lt;dbl&gt; | zn &lt;dbl&gt; | indus &lt;dbl&gt; | chas &lt;int&gt; | nox &lt;dbl&gt; | rm &lt;dbl&gt; | age &lt;dbl&gt; | dis &lt;dbl&gt; | rad &lt;int&gt; | tax &lt;dbl&gt; | ptratio &lt;dbl&gt; | lstat &lt;dbl&gt; | medv &lt;dbl&gt; |\n",
       "|---|---|---|---|---|---|---|---|---|---|---|---|---|---|\n",
       "| 1 | 0.00632 | 18 | 2.31 | 0 | 0.538 | 6.575 | 65.2 | 4.0900 | 1 | 296 | 15.3 | 4.98 | 24.0 |\n",
       "| 2 | 0.02731 |  0 | 7.07 | 0 | 0.469 | 6.421 | 78.9 | 4.9671 | 2 | 242 | 17.8 | 9.14 | 21.6 |\n",
       "| 3 | 0.02729 |  0 | 7.07 | 0 | 0.469 | 7.185 | 61.1 | 4.9671 | 2 | 242 | 17.8 | 4.03 | 34.7 |\n",
       "| 4 | 0.03237 |  0 | 2.18 | 0 | 0.458 | 6.998 | 45.8 | 6.0622 | 3 | 222 | 18.7 | 2.94 | 33.4 |\n",
       "| 5 | 0.06905 |  0 | 2.18 | 0 | 0.458 | 7.147 | 54.2 | 6.0622 | 3 | 222 | 18.7 | 5.33 | 36.2 |\n",
       "| 6 | 0.02985 |  0 | 2.18 | 0 | 0.458 | 6.430 | 58.7 | 6.0622 | 3 | 222 | 18.7 | 5.21 | 28.7 |\n",
       "\n"
      ],
      "text/plain": [
       "  crim    zn indus chas nox   rm    age  dis    rad tax ptratio lstat medv\n",
       "1 0.00632 18 2.31  0    0.538 6.575 65.2 4.0900 1   296 15.3    4.98  24.0\n",
       "2 0.02731  0 7.07  0    0.469 6.421 78.9 4.9671 2   242 17.8    9.14  21.6\n",
       "3 0.02729  0 7.07  0    0.469 7.185 61.1 4.9671 2   242 17.8    4.03  34.7\n",
       "4 0.03237  0 2.18  0    0.458 6.998 45.8 6.0622 3   222 18.7    2.94  33.4\n",
       "5 0.06905  0 2.18  0    0.458 7.147 54.2 6.0622 3   222 18.7    5.33  36.2\n",
       "6 0.02985  0 2.18  0    0.458 6.430 58.7 6.0622 3   222 18.7    5.21  28.7"
      ]
     },
     "metadata": {},
     "output_type": "display_data"
    }
   ],
   "source": [
    "library(ISLR2)\n",
    "head(Boston)"
   ]
  },
  {
   "cell_type": "markdown",
   "id": "01e2ee5b",
   "metadata": {},
   "source": [
    "(b) Make some pairwise scatterplots of the predictors (columns) in this data set. Describe your findings."
   ]
  },
  {
   "cell_type": "markdown",
   "id": "07d90b05",
   "metadata": {},
   "source": [
    "*Here, we find that the number of rooms per dwelling (rm) is positively correlated with the median value of owner-occupied homes (medv). This means that as the number of rooms per dwelling increases, the median value of owner-occupied homes is also likely to increase.\n",
    "Also, we find that the crime rate (crim) is negatively correlated with the median value of owner-occupied homes (medv). This means that as the crime rate increases, the median value of owner-occupied homes is likely to decrease.*"
   ]
  },
  {
   "cell_type": "code",
   "execution_count": 34,
   "id": "75e9bd23",
   "metadata": {},
   "outputs": [
    {
     "data": {
      "image/png": "[encoded data removed]",
      "text/plain": [
       "plot without title"
      ]
     },
     "metadata": {
      "image/png": {
       "height": 420,
       "width": 420
      }
     },
     "output_type": "display_data"
    }
   ],
   "source": [
    "pairs(Boston)"
   ]
  },
  {
   "cell_type": "code",
   "execution_count": 29,
   "id": "63ca2941",
   "metadata": {},
   "outputs": [
    {
     "data": {
      "image/png": "[encoded data removed]",
      "text/plain": [
       "Plot with title \"Scatterplot of rm vs medv\""
      ]
     },
     "metadata": {
      "image/png": {
       "height": 420,
       "width": 420
      }
     },
     "output_type": "display_data"
    }
   ],
   "source": [
    "plot(Boston$rm, Boston$medv, xlab=\"Average number of rooms per dwelling\", ylab=\"Median value of owner-occupied homes\", main=\"Scatterplot of rm vs medv\")\n"
   ]
  },
  {
   "cell_type": "code",
   "execution_count": 30,
   "id": "39715d67",
   "metadata": {},
   "outputs": [
    {
     "data": {
      "image/png": "[encoded data removed]",
      "text/plain": [
       "Plot with title \"Scatterplot of crim vs medv\""
      ]
     },
     "metadata": {
      "image/png": {
       "height": 420,
       "width": 420
      }
     },
     "output_type": "display_data"
    }
   ],
   "source": [
    "plot(Boston$crim, Boston$medv, xlab=\"Per capita crime rate\", ylab=\"Median value of owner-occupied homes\", main=\"Scatterplot of crim vs medv\")"
   ]
  },
  {
   "cell_type": "markdown",
   "id": "53e5ec6e",
   "metadata": {},
   "source": [
    "(c) Are any of the predictors associated with per capita crime rate? If so, explain the relationship."
   ]
  },
  {
   "cell_type": "markdown",
   "id": "bfcc036e",
   "metadata": {},
   "source": [
    "*The first row of the correlation matrix corresponds to the correlations between the per capita crime rate and each of the other predictors.* \n",
    "\n",
    "*Personnal reminder: A positive correlation indicates that as the value of one variable increases, the value of the other variable is also likely to increase. A negative correlation indicates that as the value of one variable increases, the value of the other variable is likely to decrease. The strength of the correlation is indicated by the magnitude of the correlation coefficient, which ranges from -1 (perfect negative correlation) to 1 (perfect positive correlation).*\n",
    "\n",
    "*Here, we find that the predictor with the highest positive correlation with the per capita crime rate is the index of accessibility to radial highways (rad). This suggest that the crime rate is higher in areas of Boston that are more accessible by radial highways. Conversely, you might find that the predictor with the highest negative correlation with the per capita crime rate is the average number of rooms per dwelling (rm). Thissuggest that areas of Boston with larger homes have lower crime rates.*"
   ]
  },
  {
   "cell_type": "code",
   "execution_count": 33,
   "id": "b68a956b",
   "metadata": {},
   "outputs": [
    {
     "data": {
      "text/html": [
       "<style>\n",
       ".dl-inline {width: auto; margin:0; padding: 0}\n",
       ".dl-inline>dt, .dl-inline>dd {float: none; width: auto; display: inline-block}\n",
       ".dl-inline>dt::after {content: \":\\0020\"; padding-right: .5ex}\n",
       ".dl-inline>dt:not(:first-of-type) {padding-left: .5ex}\n",
       "</style><dl class=dl-inline><dt>crim</dt><dd>1</dd><dt>zn</dt><dd>-0.200469219662547</dd><dt>indus</dt><dd>0.406583411406259</dd><dt>chas</dt><dd>-0.0558915822222415</dd><dt>nox</dt><dd>0.420971711392456</dd><dt>rm</dt><dd>-0.219246702862514</dd><dt>age</dt><dd>0.352734250901364</dd><dt>dis</dt><dd>-0.379670086951024</dd><dt>rad</dt><dd>0.625505145262602</dd><dt>tax</dt><dd>0.582764312032585</dd><dt>ptratio</dt><dd>0.28994557927952</dd><dt>lstat</dt><dd>0.455621479447946</dd><dt>medv</dt><dd>-0.388304608586812</dd></dl>\n"
      ],
      "text/latex": [
       "\\begin{description*}\n",
       "\\item[crim] 1\n",
       "\\item[zn] -0.200469219662547\n",
       "\\item[indus] 0.406583411406259\n",
       "\\item[chas] -0.0558915822222415\n",
       "\\item[nox] 0.420971711392456\n",
       "\\item[rm] -0.219246702862514\n",
       "\\item[age] 0.352734250901364\n",
       "\\item[dis] -0.379670086951024\n",
       "\\item[rad] 0.625505145262602\n",
       "\\item[tax] 0.582764312032585\n",
       "\\item[ptratio] 0.28994557927952\n",
       "\\item[lstat] 0.455621479447946\n",
       "\\item[medv] -0.388304608586812\n",
       "\\end{description*}\n"
      ],
      "text/markdown": [
       "crim\n",
       ":   1zn\n",
       ":   -0.200469219662547indus\n",
       ":   0.406583411406259chas\n",
       ":   -0.0558915822222415nox\n",
       ":   0.420971711392456rm\n",
       ":   -0.219246702862514age\n",
       ":   0.352734250901364dis\n",
       ":   -0.379670086951024rad\n",
       ":   0.625505145262602tax\n",
       ":   0.582764312032585ptratio\n",
       ":   0.28994557927952lstat\n",
       ":   0.455621479447946medv\n",
       ":   -0.388304608586812\n",
       "\n"
      ],
      "text/plain": [
       "       crim          zn       indus        chas         nox          rm \n",
       " 1.00000000 -0.20046922  0.40658341 -0.05589158  0.42097171 -0.21924670 \n",
       "        age         dis         rad         tax     ptratio       lstat \n",
       " 0.35273425 -0.37967009  0.62550515  0.58276431  0.28994558  0.45562148 \n",
       "       medv \n",
       "-0.38830461 "
      ]
     },
     "metadata": {},
     "output_type": "display_data"
    }
   ],
   "source": [
    "cor_matrix <- cor(Boston)\n",
    "cor_matrix[1, ]"
   ]
  },
  {
   "cell_type": "markdown",
   "id": "16e0134c",
   "metadata": {},
   "source": [
    "(d) Do any of the census tracts of Boston appear to have particularly high crime rates? Tax rates? Pupil-teacher ratios? Comment on the range of each predictor."
   ]
  },
  {
   "cell_type": "markdown",
   "id": "75f3d3eb",
   "metadata": {},
   "source": [
    "*These results indicate that the range of values for crim is between 0 and 89, the range of values for tax is between 187 and 711, and the range of values for ptratio is between 12 and 22, we can conclude that:*\n",
    "\n",
    "*1. The per capita crime rate is distributed over a relatively small range of values compared to the property-tax rate but a wider range compared to pupil-teacher ratio.*\n",
    "\n",
    "*2. The property-tax rate is distributed over a much wider range of values compared to the per capita crime rate and pupil_teacher ratio, and is the predictor with the largest range of values.*\n",
    "\n",
    "*3. The pupil-teacher ratio is distributed over a relatively narrow range of values compared to the property-tax rate and the per capita crime rate.*"
   ]
  },
  {
   "cell_type": "code",
   "execution_count": 37,
   "id": "1f88d412",
   "metadata": {},
   "outputs": [
    {
     "data": {
      "text/plain": [
       "    Min.  1st Qu.   Median     Mean  3rd Qu.     Max. \n",
       " 0.00632  0.08204  0.25651  3.61352  3.67708 88.97620 "
      ]
     },
     "metadata": {},
     "output_type": "display_data"
    },
    {
     "data": {
      "text/plain": [
       "   Min. 1st Qu.  Median    Mean 3rd Qu.    Max. \n",
       "  187.0   279.0   330.0   408.2   666.0   711.0 "
      ]
     },
     "metadata": {},
     "output_type": "display_data"
    },
    {
     "data": {
      "text/plain": [
       "   Min. 1st Qu.  Median    Mean 3rd Qu.    Max. \n",
       "  12.60   17.40   19.05   18.46   20.20   22.00 "
      ]
     },
     "metadata": {},
     "output_type": "display_data"
    }
   ],
   "source": [
    "summary(Boston$crim)\n",
    "summary(Boston$tax)\n",
    "summary(Boston$ptratio)"
   ]
  },
  {
   "cell_type": "markdown",
   "id": "885179ab",
   "metadata": {},
   "source": [
    "(e) How many of the census tracts in this data set bound the Charles river?"
   ]
  },
  {
   "cell_type": "markdown",
   "id": "c7a261c2",
   "metadata": {},
   "source": [
    "*Out of the total number of census tracts in the Boston data set, 35 of them are located along the Charles river*"
   ]
  },
  {
   "cell_type": "code",
   "execution_count": 38,
   "id": "d6dbb7bc",
   "metadata": {},
   "outputs": [
    {
     "data": {
      "text/html": [
       "35"
      ],
      "text/latex": [
       "35"
      ],
      "text/markdown": [
       "35"
      ],
      "text/plain": [
       "[1] 35"
      ]
     },
     "metadata": {},
     "output_type": "display_data"
    }
   ],
   "source": [
    "sum(Boston$chas == 1)"
   ]
  },
  {
   "cell_type": "markdown",
   "id": "ae78b036",
   "metadata": {},
   "source": [
    "(f) What is the median pupil-teacher ratio among the towns in this data set?"
   ]
  },
  {
   "cell_type": "markdown",
   "id": "69a310b6",
   "metadata": {},
   "source": [
    "*Half of the towns in the data set have a pupil-teacher ratio of 19.05 or lower and half have a ratio higher than 19.05. This indicates that the average number of students per teacher in the Boston housing towns is 19.05.*"
   ]
  },
  {
   "cell_type": "code",
   "execution_count": 21,
   "id": "bda90837",
   "metadata": {},
   "outputs": [
    {
     "data": {
      "text/html": [
       "19.05"
      ],
      "text/latex": [
       "19.05"
      ],
      "text/markdown": [
       "19.05"
      ],
      "text/plain": [
       "[1] 19.05"
      ]
     },
     "metadata": {},
     "output_type": "display_data"
    }
   ],
   "source": [
    "median(Boston$ptratio)"
   ]
  },
  {
   "cell_type": "markdown",
   "id": "b5a2dac8",
   "metadata": {},
   "source": [
    "(g) Which census tract of Boston has lowest median value of owner- occupied homes? What are the values of the other predictors for that census tract, and how do those values compare to the overall ranges for those predictors? Comment on your findings."
   ]
  },
  {
   "cell_type": "markdown",
   "id": "2ccbba61",
   "metadata": {},
   "source": [
    "*The census tract of Boston with the lowest median value of owner-occupied homes (5 x 1000$) is census tract 399. We also see that the per capita crime rate is much higher than the average (38.35 > 3.61) and out range mentionned above. We also see that the property-tax rate is at the limit between the third and the fourth quartil with a value of 666, which is more than 75 percent of the census tracts. To finish, the same happens to the pupil-teacher ratio which is at the limit between the third and the fourth quartil with a volue of 20.2 percent. To conclude, we can say that these value are quite high and extreme, therefore it suggets that crim, tax and pratio might have an impact on mdev.*\n"
   ]
  },
  {
   "cell_type": "code",
   "execution_count": 23,
   "id": "7fd7f335",
   "metadata": {},
   "outputs": [
    {
     "data": {
      "text/html": [
       "<table class=\"dataframe\">\n",
       "<caption>A data.frame: 1 × 13</caption>\n",
       "<thead>\n",
       "\t<tr><th></th><th scope=col>crim</th><th scope=col>zn</th><th scope=col>indus</th><th scope=col>chas</th><th scope=col>nox</th><th scope=col>rm</th><th scope=col>age</th><th scope=col>dis</th><th scope=col>rad</th><th scope=col>tax</th><th scope=col>ptratio</th><th scope=col>lstat</th><th scope=col>medv</th></tr>\n",
       "\t<tr><th></th><th scope=col>&lt;dbl&gt;</th><th scope=col>&lt;dbl&gt;</th><th scope=col>&lt;dbl&gt;</th><th scope=col>&lt;int&gt;</th><th scope=col>&lt;dbl&gt;</th><th scope=col>&lt;dbl&gt;</th><th scope=col>&lt;dbl&gt;</th><th scope=col>&lt;dbl&gt;</th><th scope=col>&lt;int&gt;</th><th scope=col>&lt;dbl&gt;</th><th scope=col>&lt;dbl&gt;</th><th scope=col>&lt;dbl&gt;</th><th scope=col>&lt;dbl&gt;</th></tr>\n",
       "</thead>\n",
       "<tbody>\n",
       "\t<tr><th scope=row>399</th><td>38.3518</td><td>0</td><td>18.1</td><td>0</td><td>0.693</td><td>5.453</td><td>100</td><td>1.4896</td><td>24</td><td>666</td><td>20.2</td><td>30.59</td><td>5</td></tr>\n",
       "</tbody>\n",
       "</table>\n"
      ],
      "text/latex": [
       "A data.frame: 1 × 13\n",
       "\\begin{tabular}{r|lllllllllllll}\n",
       "  & crim & zn & indus & chas & nox & rm & age & dis & rad & tax & ptratio & lstat & medv\\\\\n",
       "  & <dbl> & <dbl> & <dbl> & <int> & <dbl> & <dbl> & <dbl> & <dbl> & <int> & <dbl> & <dbl> & <dbl> & <dbl>\\\\\n",
       "\\hline\n",
       "\t399 & 38.3518 & 0 & 18.1 & 0 & 0.693 & 5.453 & 100 & 1.4896 & 24 & 666 & 20.2 & 30.59 & 5\\\\\n",
       "\\end{tabular}\n"
      ],
      "text/markdown": [
       "\n",
       "A data.frame: 1 × 13\n",
       "\n",
       "| <!--/--> | crim &lt;dbl&gt; | zn &lt;dbl&gt; | indus &lt;dbl&gt; | chas &lt;int&gt; | nox &lt;dbl&gt; | rm &lt;dbl&gt; | age &lt;dbl&gt; | dis &lt;dbl&gt; | rad &lt;int&gt; | tax &lt;dbl&gt; | ptratio &lt;dbl&gt; | lstat &lt;dbl&gt; | medv &lt;dbl&gt; |\n",
       "|---|---|---|---|---|---|---|---|---|---|---|---|---|---|\n",
       "| 399 | 38.3518 | 0 | 18.1 | 0 | 0.693 | 5.453 | 100 | 1.4896 | 24 | 666 | 20.2 | 30.59 | 5 |\n",
       "\n"
      ],
      "text/plain": [
       "    crim    zn indus chas nox   rm    age dis    rad tax ptratio lstat medv\n",
       "399 38.3518 0  18.1  0    0.693 5.453 100 1.4896 24  666 20.2    30.59 5   "
      ]
     },
     "metadata": {},
     "output_type": "display_data"
    }
   ],
   "source": [
    "min_medv_row <- which.min(Boston$medv)\n",
    "Boston[min_medv_row, ]"
   ]
  },
  {
   "cell_type": "markdown",
   "id": "4160e533",
   "metadata": {},
   "source": [
    "(h) In this data set, how many of the census tracts average more than seven rooms per dwelling? More than eight rooms per dwelling? Comment on the census tracts that average more than eight rooms per dwelling."
   ]
  },
  {
   "cell_type": "code",
   "execution_count": 25,
   "id": "79ae1d50",
   "metadata": {},
   "outputs": [
    {
     "data": {
      "text/html": [
       "64"
      ],
      "text/latex": [
       "64"
      ],
      "text/markdown": [
       "64"
      ],
      "text/plain": [
       "[1] 64"
      ]
     },
     "metadata": {},
     "output_type": "display_data"
    }
   ],
   "source": [
    "sum(Boston$rm > 7)"
   ]
  },
  {
   "cell_type": "markdown",
   "id": "57124d93",
   "metadata": {},
   "source": [
    "### Exercise 3 page 120"
   ]
  },
  {
   "cell_type": "markdown",
   "id": "5192e6ee",
   "metadata": {},
   "source": [
    "3. Suppose we have a data set with five predictors, X1 GPA, X2 = IQ, X3 Level (1 for College and 0 for High School), X4 = Interac- tion between GPA and IQ, and X5 Interaction between GPA and Level. The response is starting salary after graduation (in thousands of dollars). Suppose we use least squares to fit the model, and get : Bo= 50, B1 = 20, B2 = 0.07, B3 = 35, B4 = 0.01, B5 = -10.\n",
    "\n",
    "(a) Which answer is correct, and why?\n",
    "i. For a fixed value of IQ and GPA, high school graduates earn more, on average, than college graduates.\n",
    "ii. For a fixed value of IQ and GPA, college graduates earn more, on average, than high school graduates.\n",
    "iii. For a fixed value of IQ and GPA, high school graduates earn more, on average, than college graduates provided that the GPA is high enough.\n",
    "iv. For a fixed value of IQ and GPA, college graduates earn more, on average, than high school graduates provided that the GPA is high enough.\n",
    "\n",
    "(b) Predict the salary of a college graduate with IQ of 110 and a GPA of 4.0.\n",
    "\n",
    "(c) True or false: Since the coefficient for the GPA/IQ interaction term is very small, there is very little evidence of an interaction effect. Justify your answer."
   ]
  },
  {
   "cell_type": "markdown",
   "id": "8cde38c5",
   "metadata": {},
   "source": [
    "*(a) Answer iii. iii. For a fixed value of IQ and GPA, high school graduates earn more, on average, than college graduates provided that the GPA is hih enough. The coefficient for the Level (X3) predictor is 35, meaning that college graduates (Level = 1) earn an extra 35 thousand dollars, on average, compared to high school graduates (Level = 0). However, The GPA/IQ interaction term is also included in the model, meaning that the salary difference between college and high school graduates is further affected by the GPA and IQ of the individual. If X5 is supperior or equal to 3.5 it would mean that B5*X5 is superior or equal to 35 and it would overcome overcome the effect of B3 for college's students.*\n",
    "\n",
    "*(b) The salary of a college graduate with IQ of 110 and a GPA of 4.0 would be:*\n",
    "\n",
    "*Bo + B1(4.0) + B2(110) + B3(35) + B4(4.0*110) + B5(4.0*1) = 50 + 20(4.0) + 0.07(110) + 35 + 0.01(4.0*110) - 10(4.0*1) = $137.1*\n",
    "\n",
    "*c) False. The coefficient for the GPA/IQ interaction term is very small, but this does not necessarily mean that there is very little evidence of an interaction effect. The interaction term may still be significant, even if its coefficient is small.* "
   ]
  },
  {
   "cell_type": "code",
   "execution_count": 45,
   "id": "5af07b2e",
   "metadata": {},
   "outputs": [
    {
     "name": "stdout",
     "output_type": "stream",
     "text": [
      "[1] 137.1\n"
     ]
    }
   ],
   "source": [
    "print(50 + 20*4 + 0.07*110 + 35 + 0.01*4*110 - 10*4*1)"
   ]
  },
  {
   "cell_type": "markdown",
   "id": "881369c6",
   "metadata": {},
   "source": [
    "### Exercise 15 page 126"
   ]
  },
  {
   "cell_type": "markdown",
   "id": "0f69ff99",
   "metadata": {},
   "source": [
    "15. This problem involves the Boston data set, which we saw in the lab for this chapter. We will now try to predict per capita crime rate using the other variables in this data set. In other words, per capita crime rate is the response, and the other variables are the predictors."
   ]
  },
  {
   "cell_type": "code",
   "execution_count": 83,
   "id": "4baf922c",
   "metadata": {},
   "outputs": [
    {
     "name": "stdout",
     "output_type": "stream",
     "text": [
      " [1] \"zn\"      \"indus\"   \"chas\"    \"nox\"     \"rm\"      \"age\"     \"dis\"    \n",
      " [8] \"rad\"     \"tax\"     \"ptratio\" \"black\"   \"lstat\"   \"medv\"   \n"
     ]
    }
   ],
   "source": [
    "print(colnames(Boston)[-1])"
   ]
  },
  {
   "cell_type": "markdown",
   "id": "15e5ea15",
   "metadata": {},
   "source": [
    "(a) For each predictor, fit a simple linear regression model to predict the response. Describe your results. In which of the models is there a statistically significant association between the predictor and the response? Create some plots to back up your assertions."
   ]
  },
  {
   "cell_type": "markdown",
   "id": "6c3cd456",
   "metadata": {},
   "source": [
    "\"zn\" has a significant negative effect on the crime rate (p-value = 5.51e-06), implying that an increase in the number of non-retail business acres per town is linked to a decrease in crime rate.\n",
    "\n",
    "\"indus\" has a significant positive effect on the crime rate (p-value = 2e-16), indicating that an increase in the number of industry acres per town is associated with an increase in crime rate.\n",
    "\n",
    "\"chas\" has a non-significant negative effect on the crime rate (p-value = 0.209), meaning that being on the Charles River has no impact on crime rate.\n",
    "\n",
    "\"nox\" has a significant positive effect on the crime rate (p-value = 2e-16), implying that an increase in the concentration of nitric oxides is linked to a higher crime rate.\n",
    "\n",
    "\"rm\" has a significant negative effect on the crime rate (p-value = 6.35e-07), indicating that an increase in the average number of rooms per dwelling is linked to a lower crime rate.\n",
    "\n",
    "\"age\" has a significant positive effect on the crime rate (p-value = 2.85e-16), meaning that an increase in the proportion of owner-occupied homes built prior to 1940 is associated with a higher crime rate.\n",
    "\n",
    "\"dis\" has a significant negative effect on the crime rate (p-value = <2e-16), implying that an increase in the weighted distances to five Boston employment centers is related to a lower crime rate.\n",
    "\n",
    "\"rad\" has a significant positive effect on the crime rate (p-value = <2e-16), indicating that an increase in the index of accessibility to radial highways is associated with a higher crime rate.\n",
    "\n",
    "\"tax\" has a significant positive effect on the crime rate (p-value = <2e-16), implying that an increase in the full-value property tax rate per $10,000 is linked to a higher crime rate.\n",
    "\n",
    "\"ptratio\" has a significant positive effect on the crime rate (p-value = 2.94e-11), meaning that an increase in the pupil-teacher ratio by town is associated with a higher crime rate.\n",
    "\n",
    "\"black\" has a significant negative effect on the crime rate (p-value = <2e-16), implying that an increase in the 1000(Bk - 0.63)^2, where Bk is the proportion of African American residents in the town, is linked to a lower crime rate.\n",
    "\n",
    "\"lstat\" has a significant negative effect on the crime rate (p-value = <2e-16 ), indicating that an increase in the lower status of the population is associated with a lower crime rate."
   ]
  },
  {
   "cell_type": "code",
   "execution_count": 82,
   "id": "7e8e4bf0",
   "metadata": {},
   "outputs": [
    {
     "name": "stdout",
     "output_type": "stream",
     "text": [
      "[[1]]\n",
      "\n",
      "Call:\n",
      "lm(formula = paste(\"crim ~\", col), data = Boston)\n",
      "\n",
      "Residuals:\n",
      "   Min     1Q Median     3Q    Max \n",
      "-4.429 -4.222 -2.620  1.250 84.523 \n",
      "\n",
      "Coefficients:\n",
      "            Estimate Std. Error t value Pr(>|t|)    \n",
      "(Intercept)  4.45369    0.41722  10.675  < 2e-16 ***\n",
      "zn          -0.07393    0.01609  -4.594 5.51e-06 ***\n",
      "---\n",
      "Signif. codes:  0 '***' 0.001 '**' 0.01 '*' 0.05 '.' 0.1 ' ' 1\n",
      "\n",
      "Residual standard error: 8.435 on 504 degrees of freedom\n",
      "Multiple R-squared:  0.04019,\tAdjusted R-squared:  0.03828 \n",
      "F-statistic:  21.1 on 1 and 504 DF,  p-value: 5.506e-06\n",
      "\n",
      "\n",
      "[[2]]\n",
      "\n",
      "Call:\n",
      "lm(formula = paste(\"crim ~\", col), data = Boston)\n",
      "\n",
      "Residuals:\n",
      "    Min      1Q  Median      3Q     Max \n",
      "-11.972  -2.698  -0.736   0.712  81.813 \n",
      "\n",
      "Coefficients:\n",
      "            Estimate Std. Error t value Pr(>|t|)    \n",
      "(Intercept) -2.06374    0.66723  -3.093  0.00209 ** \n",
      "indus        0.50978    0.05102   9.991  < 2e-16 ***\n",
      "---\n",
      "Signif. codes:  0 '***' 0.001 '**' 0.01 '*' 0.05 '.' 0.1 ' ' 1\n",
      "\n",
      "Residual standard error: 7.866 on 504 degrees of freedom\n",
      "Multiple R-squared:  0.1653,\tAdjusted R-squared:  0.1637 \n",
      "F-statistic: 99.82 on 1 and 504 DF,  p-value: < 2.2e-16\n",
      "\n",
      "\n",
      "[[3]]\n",
      "\n",
      "Call:\n",
      "lm(formula = paste(\"crim ~\", col), data = Boston)\n",
      "\n",
      "Residuals:\n",
      "   Min     1Q Median     3Q    Max \n",
      "-3.738 -3.661 -3.435  0.018 85.232 \n",
      "\n",
      "Coefficients:\n",
      "            Estimate Std. Error t value Pr(>|t|)    \n",
      "(Intercept)   3.7444     0.3961   9.453   <2e-16 ***\n",
      "chas         -1.8928     1.5061  -1.257    0.209    \n",
      "---\n",
      "Signif. codes:  0 '***' 0.001 '**' 0.01 '*' 0.05 '.' 0.1 ' ' 1\n",
      "\n",
      "Residual standard error: 8.597 on 504 degrees of freedom\n",
      "Multiple R-squared:  0.003124,\tAdjusted R-squared:  0.001146 \n",
      "F-statistic: 1.579 on 1 and 504 DF,  p-value: 0.2094\n",
      "\n",
      "\n",
      "[[4]]\n",
      "\n",
      "Call:\n",
      "lm(formula = paste(\"crim ~\", col), data = Boston)\n",
      "\n",
      "Residuals:\n",
      "    Min      1Q  Median      3Q     Max \n",
      "-12.371  -2.738  -0.974   0.559  81.728 \n",
      "\n",
      "Coefficients:\n",
      "            Estimate Std. Error t value Pr(>|t|)    \n",
      "(Intercept)  -13.720      1.699  -8.073 5.08e-15 ***\n",
      "nox           31.249      2.999  10.419  < 2e-16 ***\n",
      "---\n",
      "Signif. codes:  0 '***' 0.001 '**' 0.01 '*' 0.05 '.' 0.1 ' ' 1\n",
      "\n",
      "Residual standard error: 7.81 on 504 degrees of freedom\n",
      "Multiple R-squared:  0.1772,\tAdjusted R-squared:  0.1756 \n",
      "F-statistic: 108.6 on 1 and 504 DF,  p-value: < 2.2e-16\n",
      "\n",
      "\n",
      "[[5]]\n",
      "\n",
      "Call:\n",
      "lm(formula = paste(\"crim ~\", col), data = Boston)\n",
      "\n",
      "Residuals:\n",
      "   Min     1Q Median     3Q    Max \n",
      "-6.604 -3.952 -2.654  0.989 87.197 \n",
      "\n",
      "Coefficients:\n",
      "            Estimate Std. Error t value Pr(>|t|)    \n",
      "(Intercept)   20.482      3.365   6.088 2.27e-09 ***\n",
      "rm            -2.684      0.532  -5.045 6.35e-07 ***\n",
      "---\n",
      "Signif. codes:  0 '***' 0.001 '**' 0.01 '*' 0.05 '.' 0.1 ' ' 1\n",
      "\n",
      "Residual standard error: 8.401 on 504 degrees of freedom\n",
      "Multiple R-squared:  0.04807,\tAdjusted R-squared:  0.04618 \n",
      "F-statistic: 25.45 on 1 and 504 DF,  p-value: 6.347e-07\n",
      "\n",
      "\n",
      "[[6]]\n",
      "\n",
      "Call:\n",
      "lm(formula = paste(\"crim ~\", col), data = Boston)\n",
      "\n",
      "Residuals:\n",
      "   Min     1Q Median     3Q    Max \n",
      "-6.789 -4.257 -1.230  1.527 82.849 \n",
      "\n",
      "Coefficients:\n",
      "            Estimate Std. Error t value Pr(>|t|)    \n",
      "(Intercept) -3.77791    0.94398  -4.002 7.22e-05 ***\n",
      "age          0.10779    0.01274   8.463 2.85e-16 ***\n",
      "---\n",
      "Signif. codes:  0 '***' 0.001 '**' 0.01 '*' 0.05 '.' 0.1 ' ' 1\n",
      "\n",
      "Residual standard error: 8.057 on 504 degrees of freedom\n",
      "Multiple R-squared:  0.1244,\tAdjusted R-squared:  0.1227 \n",
      "F-statistic: 71.62 on 1 and 504 DF,  p-value: 2.855e-16\n",
      "\n",
      "\n",
      "[[7]]\n",
      "\n",
      "Call:\n",
      "lm(formula = paste(\"crim ~\", col), data = Boston)\n",
      "\n",
      "Residuals:\n",
      "   Min     1Q Median     3Q    Max \n",
      "-6.708 -4.134 -1.527  1.516 81.674 \n",
      "\n",
      "Coefficients:\n",
      "            Estimate Std. Error t value Pr(>|t|)    \n",
      "(Intercept)   9.4993     0.7304  13.006   <2e-16 ***\n",
      "dis          -1.5509     0.1683  -9.213   <2e-16 ***\n",
      "---\n",
      "Signif. codes:  0 '***' 0.001 '**' 0.01 '*' 0.05 '.' 0.1 ' ' 1\n",
      "\n",
      "Residual standard error: 7.965 on 504 degrees of freedom\n",
      "Multiple R-squared:  0.1441,\tAdjusted R-squared:  0.1425 \n",
      "F-statistic: 84.89 on 1 and 504 DF,  p-value: < 2.2e-16\n",
      "\n",
      "\n",
      "[[8]]\n",
      "\n",
      "Call:\n",
      "lm(formula = paste(\"crim ~\", col), data = Boston)\n",
      "\n",
      "Residuals:\n",
      "    Min      1Q  Median      3Q     Max \n",
      "-10.164  -1.381  -0.141   0.660  76.433 \n",
      "\n",
      "Coefficients:\n",
      "            Estimate Std. Error t value Pr(>|t|)    \n",
      "(Intercept) -2.28716    0.44348  -5.157 3.61e-07 ***\n",
      "rad          0.61791    0.03433  17.998  < 2e-16 ***\n",
      "---\n",
      "Signif. codes:  0 '***' 0.001 '**' 0.01 '*' 0.05 '.' 0.1 ' ' 1\n",
      "\n",
      "Residual standard error: 6.718 on 504 degrees of freedom\n",
      "Multiple R-squared:  0.3913,\tAdjusted R-squared:   0.39 \n",
      "F-statistic: 323.9 on 1 and 504 DF,  p-value: < 2.2e-16\n",
      "\n",
      "\n",
      "[[9]]\n",
      "\n",
      "Call:\n",
      "lm(formula = paste(\"crim ~\", col), data = Boston)\n",
      "\n",
      "Residuals:\n",
      "    Min      1Q  Median      3Q     Max \n",
      "-12.513  -2.738  -0.194   1.065  77.696 \n",
      "\n",
      "Coefficients:\n",
      "             Estimate Std. Error t value Pr(>|t|)    \n",
      "(Intercept) -8.528369   0.815809  -10.45   <2e-16 ***\n",
      "tax          0.029742   0.001847   16.10   <2e-16 ***\n",
      "---\n",
      "Signif. codes:  0 '***' 0.001 '**' 0.01 '*' 0.05 '.' 0.1 ' ' 1\n",
      "\n",
      "Residual standard error: 6.997 on 504 degrees of freedom\n",
      "Multiple R-squared:  0.3396,\tAdjusted R-squared:  0.3383 \n",
      "F-statistic: 259.2 on 1 and 504 DF,  p-value: < 2.2e-16\n",
      "\n",
      "\n",
      "[[10]]\n",
      "\n",
      "Call:\n",
      "lm(formula = paste(\"crim ~\", col), data = Boston)\n",
      "\n",
      "Residuals:\n",
      "   Min     1Q Median     3Q    Max \n",
      "-7.654 -3.985 -1.912  1.825 83.353 \n",
      "\n",
      "Coefficients:\n",
      "            Estimate Std. Error t value Pr(>|t|)    \n",
      "(Intercept) -17.6469     3.1473  -5.607 3.40e-08 ***\n",
      "ptratio       1.1520     0.1694   6.801 2.94e-11 ***\n",
      "---\n",
      "Signif. codes:  0 '***' 0.001 '**' 0.01 '*' 0.05 '.' 0.1 ' ' 1\n",
      "\n",
      "Residual standard error: 8.24 on 504 degrees of freedom\n",
      "Multiple R-squared:  0.08407,\tAdjusted R-squared:  0.08225 \n",
      "F-statistic: 46.26 on 1 and 504 DF,  p-value: 2.943e-11\n",
      "\n",
      "\n",
      "[[11]]\n",
      "\n",
      "Call:\n",
      "lm(formula = paste(\"crim ~\", col), data = Boston)\n",
      "\n",
      "Residuals:\n",
      "    Min      1Q  Median      3Q     Max \n",
      "-13.756  -2.299  -2.095  -1.296  86.822 \n",
      "\n",
      "Coefficients:\n",
      "             Estimate Std. Error t value Pr(>|t|)    \n",
      "(Intercept) 16.553529   1.425903  11.609   <2e-16 ***\n",
      "black       -0.036280   0.003873  -9.367   <2e-16 ***\n",
      "---\n",
      "Signif. codes:  0 '***' 0.001 '**' 0.01 '*' 0.05 '.' 0.1 ' ' 1\n",
      "\n",
      "Residual standard error: 7.946 on 504 degrees of freedom\n",
      "Multiple R-squared:  0.1483,\tAdjusted R-squared:  0.1466 \n",
      "F-statistic: 87.74 on 1 and 504 DF,  p-value: < 2.2e-16\n",
      "\n",
      "\n",
      "[[12]]\n",
      "\n",
      "Call:\n",
      "lm(formula = paste(\"crim ~\", col), data = Boston)\n",
      "\n",
      "Residuals:\n",
      "    Min      1Q  Median      3Q     Max \n",
      "-13.925  -2.822  -0.664   1.079  82.862 \n",
      "\n",
      "Coefficients:\n",
      "            Estimate Std. Error t value Pr(>|t|)    \n",
      "(Intercept) -3.33054    0.69376  -4.801 2.09e-06 ***\n",
      "lstat        0.54880    0.04776  11.491  < 2e-16 ***\n",
      "---\n",
      "Signif. codes:  0 '***' 0.001 '**' 0.01 '*' 0.05 '.' 0.1 ' ' 1\n",
      "\n",
      "Residual standard error: 7.664 on 504 degrees of freedom\n",
      "Multiple R-squared:  0.2076,\tAdjusted R-squared:  0.206 \n",
      "F-statistic:   132 on 1 and 504 DF,  p-value: < 2.2e-16\n",
      "\n",
      "\n",
      "[[13]]\n",
      "\n",
      "Call:\n",
      "lm(formula = paste(\"crim ~\", col), data = Boston)\n",
      "\n",
      "Residuals:\n",
      "   Min     1Q Median     3Q    Max \n",
      "-9.071 -4.022 -2.343  1.298 80.957 \n",
      "\n",
      "Coefficients:\n",
      "            Estimate Std. Error t value Pr(>|t|)    \n",
      "(Intercept) 11.79654    0.93419   12.63   <2e-16 ***\n",
      "medv        -0.36316    0.03839   -9.46   <2e-16 ***\n",
      "---\n",
      "Signif. codes:  0 '***' 0.001 '**' 0.01 '*' 0.05 '.' 0.1 ' ' 1\n",
      "\n",
      "Residual standard error: 7.934 on 504 degrees of freedom\n",
      "Multiple R-squared:  0.1508,\tAdjusted R-squared:  0.1491 \n",
      "F-statistic: 89.49 on 1 and 504 DF,  p-value: < 2.2e-16\n",
      "\n",
      "\n"
     ]
    },
    {
     "data": {
      "image/png": "[encoded data removed]",
      "text/plain": [
       "Plot with title \"tax  vs crim\""
      ]
     },
     "metadata": {
      "image/png": {
       "height": 420,
       "width": 420
      }
     },
     "output_type": "display_data"
    },
    {
     "data": {
      "image/png": "[encoded data removed]",
      "text/plain": [
       "Plot with title \"medv  vs crim\""
      ]
     },
     "metadata": {
      "image/png": {
       "height": 420,
       "width": 420
      }
     },
     "output_type": "display_data"
    }
   ],
   "source": [
    "# Fit simple linear regression models for each predictor\n",
    "lm_results <- lapply(colnames(Boston)[-1], function(col) {\n",
    "  lm(paste(\"crim ~\", col), data = Boston)\n",
    "})\n",
    "\n",
    "# Get the summary of the models\n",
    "lm_summaries <- lapply(lm_results, summary)\n",
    "print(lm_summaries)\n",
    "\n",
    "# Plot the significant predictors against the response\n",
    "par(mfrow = c(3, 3))\n",
    "for (col in colnames(Boston)[-1]) {\n",
    "  plot(Boston[[col]], Boston$crim)\n",
    "  abline(lm_results[[col]])\n",
    "  title(paste(col, \" vs crim\"))\n",
    "}"
   ]
  },
  {
   "cell_type": "markdown",
   "id": "c8e9dcfb",
   "metadata": {},
   "source": [
    "\n",
    "(b) Fit a multiple regression model to predict the response using all of the predictors. Describe your results. For which predictors can we reject the null hypothesis Ho: Bj = 0?\n"
   ]
  },
  {
   "cell_type": "markdown",
   "id": "05f77791",
   "metadata": {},
   "source": [
    "*The results of the multiple regression model show that:*\n",
    "\n",
    "*- The residuals range from -9.924 to 75.051 with a median of -0.353*\n",
    "\n",
    "*- Of the predictors, the following are significant at the 0.05 level: \"zn\", \"dis\", \"rad\", \"black\", and \"medv\".*\n",
    "\n",
    "*- The coefficients for these predictors are:*\n",
    "\n",
    "*\"zn\": 0.044855, \n",
    "\"dis\": -0.987176, \n",
    "\"rad\": 0.588209, \n",
    "\"black\": -0.007538, \n",
    "\"medv\": -0.198887.*\n",
    "\n",
    "*- The multiple R-squared is 0.454, indicating that 45.4% of the variance in crime rate can be explained by the predictor variables in the model.*\n",
    "\n",
    "*- The F-statistic for the model is 31.47, with a p-value of < 2.2e-16, indicating that the overall model is significant.*\n",
    "\n",
    "\n",
    "*For the multiple regression model, the null hypothesis Ho: Bj = 0 can be rejected for the following predictors:\n",
    "(Intercept), zn, dis, rad, black, and medv. This is based on the p-values, which are less than 0.05.*"
   ]
  },
  {
   "cell_type": "code",
   "execution_count": 84,
   "id": "a0428eb9",
   "metadata": {},
   "outputs": [
    {
     "name": "stdout",
     "output_type": "stream",
     "text": [
      "\n",
      "Call:\n",
      "lm(formula = crim ~ ., data = Boston)\n",
      "\n",
      "Residuals:\n",
      "   Min     1Q Median     3Q    Max \n",
      "-9.924 -2.120 -0.353  1.019 75.051 \n",
      "\n",
      "Coefficients:\n",
      "              Estimate Std. Error t value Pr(>|t|)    \n",
      "(Intercept)  17.033228   7.234903   2.354 0.018949 *  \n",
      "zn            0.044855   0.018734   2.394 0.017025 *  \n",
      "indus        -0.063855   0.083407  -0.766 0.444294    \n",
      "chas         -0.749134   1.180147  -0.635 0.525867    \n",
      "nox         -10.313535   5.275536  -1.955 0.051152 .  \n",
      "rm            0.430131   0.612830   0.702 0.483089    \n",
      "age           0.001452   0.017925   0.081 0.935488    \n",
      "dis          -0.987176   0.281817  -3.503 0.000502 ***\n",
      "rad           0.588209   0.088049   6.680 6.46e-11 ***\n",
      "tax          -0.003780   0.005156  -0.733 0.463793    \n",
      "ptratio      -0.271081   0.186450  -1.454 0.146611    \n",
      "black        -0.007538   0.003673  -2.052 0.040702 *  \n",
      "lstat         0.126211   0.075725   1.667 0.096208 .  \n",
      "medv         -0.198887   0.060516  -3.287 0.001087 ** \n",
      "---\n",
      "Signif. codes:  0 '***' 0.001 '**' 0.01 '*' 0.05 '.' 0.1 ' ' 1\n",
      "\n",
      "Residual standard error: 6.439 on 492 degrees of freedom\n",
      "Multiple R-squared:  0.454,\tAdjusted R-squared:  0.4396 \n",
      "F-statistic: 31.47 on 13 and 492 DF,  p-value: < 2.2e-16\n",
      "\n",
      " (Intercept)           zn        indus         chas          nox           rm \n",
      "1.894909e-02 1.702489e-02 4.442940e-01 5.258670e-01 5.115200e-02 4.830888e-01 \n",
      "         age          dis          rad          tax      ptratio        black \n",
      "9.354878e-01 5.022039e-04 6.460451e-11 4.637927e-01 1.466113e-01 4.070233e-02 \n",
      "       lstat         medv \n",
      "9.620842e-02 1.086810e-03 \n",
      "[1] \"(Intercept)\" \"zn\"          \"dis\"         \"rad\"         \"black\"      \n",
      "[6] \"medv\"       \n"
     ]
    }
   ],
   "source": [
    "# (b) Fit a multiple regression model using all the predictors\n",
    "multiple_lm <- lm(crim ~ ., data = Boston)\n",
    "\n",
    "# Get the summary of the model\n",
    "multiple_lm_summary <- summary(full_lm)\n",
    "print(multiple_lm_summary)\n",
    "\n",
    "# Get the p-values of the predictors\n",
    "multiple_lm_p_values <- full_summary$coefficients[, 4]\n",
    "print(multiple_lm_p_values)\n",
    "\n",
    "# Identify the predictors that can be rejected\n",
    "multiple_lm_significant_predictors <- names(which(multiple_lm_p_values < 0.05))\n",
    "print(multiple_lm_significant_predictors)"
   ]
  },
  {
   "cell_type": "markdown",
   "id": "9394556c",
   "metadata": {},
   "source": [
    "(c) How do your results from (a) compare to your results from (b)? Create a plot displaying the univariate regression coefficients from (a) on the x-axis, and the multiple regression coefficients from (b) on the y-axis. That is, each predictor is displayed as a single point in the plot. Its coefficient in a simple linear regres- sion model is shown on the x-axis, and its coefficient estimate in the multiple linear regression model is shown on the y-axis."
   ]
  },
  {
   "cell_type": "code",
   "execution_count": 122,
   "id": "ed104b16",
   "metadata": {},
   "outputs": [
    {
     "name": "stdout",
     "output_type": "stream",
     "text": [
      " [1] -0.07393498  0.50977633 -1.89277655 31.24853120 -2.68405122  0.10778623\n",
      " [7] -1.55090168  0.61791093  0.02974225  1.15198279 -0.03627964  0.54880478\n",
      "[13] -0.36315992\n",
      "           zn         indus          chas           nox            rm \n",
      "  0.044855215  -0.063854824  -0.749133611 -10.313534912   0.430130506 \n",
      "          age           dis           rad           tax       ptratio \n",
      "  0.001451643  -0.987175726   0.588208591  -0.003780016  -0.271080558 \n",
      "        black         lstat          medv \n",
      " -0.007537505   0.126211376  -0.198886821 \n"
     ]
    },
    {
     "ename": "ERROR",
     "evalue": "Error in data.frame(predictor = names(single_lm_coefficients), single_lm = single_lm_coefficients, : arguments imply differing number of rows: 0, 13\n",
     "output_type": "error",
     "traceback": [
      "Error in data.frame(predictor = names(single_lm_coefficients), single_lm = single_lm_coefficients, : arguments imply differing number of rows: 0, 13\nTraceback:\n",
      "1. data.frame(predictor = names(single_lm_coefficients), single_lm = single_lm_coefficients, \n .     multiple_lm = multiple_lm_coefficients)",
      "2. stop(gettextf(\"arguments imply differing number of rows: %s\", \n .     paste(unique(nrows), collapse = \", \")), domain = NA)"
     ]
    }
   ],
   "source": [
    "single_lm_coefficients <- sapply(lm_results, coef)[2,]\n",
    "print(single_lm_coefficients)\n",
    "\n",
    "multiple_lm_coefficients <- multiple_lm_summary$coefficients[-1, 1]\n",
    "print(multiple_lm_coefficients)\n",
    "\n",
    "# Create a data frame to store the results of both models\n",
    "results_df <- data.frame(predictor = names(single_lm_coefficients), \n",
    "                         single_lm = single_lm_coefficients, \n",
    "                         multiple_lm = multiple_lm_coefficients)\n",
    "\n",
    "# Plot the results\n",
    "library(ggplot2)\n",
    "ggplot(results_df, aes(x = single_lm, y = multiple_lm, label = predictor)) + \n",
    "  geom_point() + \n",
    "  geom_text(nudge_y = 0.05, check_overlap = TRUE) + \n",
    "  xlab(\"Univariate Regression Coefficients\") + \n",
    "  ylab(\"Multiple Regression Coefficients\") + \n",
    "  ggtitle(\"Comparison of Univariate and Multiple Regression Coefficients\") + \n",
    "  theme_classic()"
   ]
  },
  {
   "cell_type": "markdown",
   "id": "9ee593d1",
   "metadata": {},
   "source": [
    "(d) Is there evidence of non-linear association between any of the predictors and the response? To answer this question, for each predictor X, fit a model of the formY = Bo+B1X + B2X2 + B3X3 + €."
   ]
  },
  {
   "cell_type": "code",
   "execution_count": null,
   "id": "ecb6030a",
   "metadata": {},
   "outputs": [],
   "source": []
  }
 ],
 "metadata": {
  "kernelspec": {
   "display_name": "R",
   "language": "R",
   "name": "ir"
  },
  "language_info": {
   "codemirror_mode": "r",
   "file_extension": ".r",
   "mimetype": "text/x-r-source",
   "name": "R",
   "pygments_lexer": "r",
   "version": "4.1.3"
  }
 },
 "nbformat": 4,
 "nbformat_minor": 5
}
