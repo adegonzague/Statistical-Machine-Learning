{
 "cells": [
  {
   "cell_type": "markdown",
   "id": "c863c258",
   "metadata": {},
   "source": [
    "# Homework SML - Degonzague Alice"
   ]
  },
  {
   "cell_type": "markdown",
   "id": "9001b285",
   "metadata": {},
   "source": [
    "### Exercise 6 page 191"
   ]
  },
  {
   "cell_type": "markdown",
   "id": "dde7fd12",
   "metadata": {},
   "source": [
    "Suppose we collect data for a group of students in a statistics class with variables X1 =hours studied, X2 =undergrad GPA, and Y= receive an A. We fit a logistic regression and produce estimated coefficient, ˆβ0 = −6, ˆβ1 = 0.05, ˆβ2 = 1. \n",
    "\n",
    "(a) Estimate the probability that a student who studies for 40 h and has an undergrad GPA of 3.5 gets an A in the class. \n",
    "\n",
    "(b) How many hours would the student in part (a) need to study to have a 50% chance of getting an A in the class?"
   ]
  },
  {
   "cell_type": "code",
   "execution_count": 12,
   "id": "dc752a5e",
   "metadata": {},
   "outputs": [
    {
     "data": {
      "text/html": [
       "0.377540668798145"
      ],
      "text/latex": [
       "0.377540668798145"
      ],
      "text/markdown": [
       "0.377540668798145"
      ],
      "text/plain": [
       "[1] 0.3775407"
      ]
     },
     "metadata": {},
     "output_type": "display_data"
    }
   ],
   "source": [
    "# Logistic regression coefficients\n",
    "b0 <- -6\n",
    "b1 <- 0.05\n",
    "b2 <- 1\n",
    "\n",
    "# Values of the predictors for the student\n",
    "x1 <- 40\n",
    "x2 <- 3.5\n",
    "\n",
    "# Calculate the log odds of the student getting an A\n",
    "log_odds <- b0 + b1*x1 + b2*x2\n",
    "\n",
    "# Convert log odds to probability\n",
    "probability <- exp(log_odds) / (1 + exp(log_odds))\n",
    "\n",
    "# Display the probability\n",
    "probability"
   ]
  },
  {
   "cell_type": "code",
   "execution_count": 13,
   "id": "cda17fd2",
   "metadata": {},
   "outputs": [
    {
     "data": {
      "text/html": [
       "60"
      ],
      "text/latex": [
       "60"
      ],
      "text/markdown": [
       "60"
      ],
      "text/plain": [
       "[1] 60"
      ]
     },
     "metadata": {},
     "output_type": "display_data"
    }
   ],
   "source": [
    "# Logistic regression coefficients\n",
    "b0 <- -6\n",
    "b1 <- 0.05\n",
    "b2 <- 1\n",
    "\n",
    "# Value of x2 (undergrad GPA) for the student\n",
    "x2 <- 3.5\n",
    "\n",
    "# Calculate the number of hours needed to have a 50% chance of getting an A\n",
    "x1 <- (0.5 - b0 - b2 * x2) / b1\n",
    "\n",
    "# Display the result\n",
    "x1"
   ]
  },
  {
   "cell_type": "markdown",
   "id": "1937d8cf",
   "metadata": {},
   "source": [
    "### Exercise 8 page 191"
   ]
  },
  {
   "cell_type": "markdown",
   "id": "bd54b549",
   "metadata": {},
   "source": [
    "Suppose that we take a data set, divide it into equally-sized training and test sets, and then try out two different classification procedures. 192 4. Classification First we use logistic regression and get an error rate of 20% on the training data and 30% on the test data. Next we use 1-nearest neighbors (i.e. K = 1) and get an average error rate (averaged over both test and training data sets) of 18 %. Based on these results, which method should we prefer to use for classification of new observations? Why?"
   ]
  },
  {
   "cell_type": "markdown",
   "id": "aaec7d82",
   "metadata": {},
   "source": [
    "To compare the logistic regression and 1-nearest neighbor classification procedures, we need to consider their error rates on both the training and test datasets.\n",
    "\n",
    "The logistic regression procedure has an error rate of 20% on the training dataset and 30% on the test dataset. This indicates that the model is overfitting the training data and not generalizing well to new observations.\n",
    "\n",
    "On the other hand, the 1-nearest neighbor procedure has an average error rate of 18% across both the training and test datasets. This suggests that the model is performing better overall and may have better generalization capabilities.\n",
    "\n",
    "Therefore, based on these results, we should prefer the 1-nearest neighbor classification procedure for classification of new observations. This is because it has a lower overall error rate and is less likely to overfit the training data."
   ]
  },
  {
   "cell_type": "markdown",
   "id": "94c76ef3",
   "metadata": {},
   "source": [
    "### Exercise 9 page 192"
   ]
  },
  {
   "cell_type": "markdown",
   "id": "76923e4e",
   "metadata": {},
   "source": [
    "This problem has to do with odds. \n",
    "\n",
    "(a) On average, what fraction of people with an odds of 0.37 of defaulting on their credit card payment will in fact default? \n",
    "\n",
    "(b) Suppose that an individual has a 16% chance of defaulting on her credit card payment. What are the odds that she will default?"
   ]
  },
  {
   "cell_type": "code",
   "execution_count": 14,
   "id": "e5096f6e",
   "metadata": {},
   "outputs": [
    {
     "data": {
      "text/html": [
       "0.27007299270073"
      ],
      "text/latex": [
       "0.27007299270073"
      ],
      "text/markdown": [
       "0.27007299270073"
      ],
      "text/plain": [
       "[1] 0.270073"
      ]
     },
     "metadata": {},
     "output_type": "display_data"
    }
   ],
   "source": [
    "# Given odds of default\n",
    "odds <- 0.37\n",
    "\n",
    "# Calculate probability of default\n",
    "prob <- odds / (1 + odds)\n",
    "\n",
    "# Calculate fraction of people who will default\n",
    "fraction <- prob\n",
    "\n",
    "# Display the result\n",
    "fraction"
   ]
  },
  {
   "cell_type": "code",
   "execution_count": null,
   "id": "f8889f3f",
   "metadata": {},
   "outputs": [],
   "source": []
  }
 ],
 "metadata": {
  "kernelspec": {
   "display_name": "R",
   "language": "R",
   "name": "ir"
  },
  "language_info": {
   "codemirror_mode": "r",
   "file_extension": ".r",
   "mimetype": "text/x-r-source",
   "name": "R",
   "pygments_lexer": "r",
   "version": "4.1.3"
  }
 },
 "nbformat": 4,
 "nbformat_minor": 5
}
